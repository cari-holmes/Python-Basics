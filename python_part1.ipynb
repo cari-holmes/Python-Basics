{
 "cells": [
  {
   "cell_type": "markdown",
   "metadata": {},
   "source": [
    "**Learn Python the Hard Way** \n",
    "\n",
    "Learning Python through building up skills using memorization and practice and then applying them to increasingly difficult problems."
   ]
  },
  {
   "cell_type": "markdown",
   "metadata": {},
   "source": [
    "Ex. 1: A Good First Program"
   ]
  },
  {
   "cell_type": "code",
   "execution_count": 21,
   "metadata": {},
   "outputs": [
    {
     "name": "stdout",
     "output_type": "stream",
     "text": [
      "Hello, World!\n",
      "Hello Again!\n",
      "I like typing this.\n",
      "Yay! Printing.\n",
      "I'd much rather you 'not'.\n",
      "I \"said\" do not touch this.\n"
     ]
    }
   ],
   "source": [
    "print('Hello, World!')\n",
    "print(\"Hello Again!\")\n",
    "print(\"I like typing this.\")\n",
    "print(\"Yay! Printing.\")\n",
    "print(\"I'd much rather you 'not'.\")\n",
    "print('I \"said\" do not touch this.')"
   ]
  },
  {
   "cell_type": "markdown",
   "metadata": {},
   "source": [
    "Ex. 2: Comments and Pound Characters"
   ]
  },
  {
   "cell_type": "code",
   "execution_count": 22,
   "metadata": {},
   "outputs": [
    {
     "name": "stdout",
     "output_type": "stream",
     "text": [
      "I could have code list this.\n",
      "This will run.\n"
     ]
    }
   ],
   "source": [
    "# A comment, this is so you can read your program later.\n",
    "# Anything after the # is ignored by python.\n",
    "print('I could have code list this.') # and the comment after is ignores\n",
    "# You can also use a comment to 'disable' or comment out code:\n",
    "# print(\"This won't run\")\n",
    "print(\"This will run.\")"
   ]
  },
  {
   "cell_type": "markdown",
   "metadata": {},
   "source": [
    "Ex. 3: Numbers and Math"
   ]
  },
  {
   "cell_type": "code",
   "execution_count": 23,
   "metadata": {},
   "outputs": [
    {
     "name": "stdout",
     "output_type": "stream",
     "text": [
      "I will now count my chickens:\n",
      "Hens 30.0\n",
      "Roosters 97\n",
      "Now I will count the eggs:\n",
      "6.75\n",
      "Is it true that 3 + 2 < 5 - 7?\n",
      "False\n",
      "What is 3 + 2? 5\n",
      "What is 5 - 7? -2\n",
      "Oh, tha's why it's False.\n",
      "How about some more.\n",
      "Is it greater? True\n",
      "Is it greater or equal? True\n",
      "Is it less or equal? False\n"
     ]
    }
   ],
   "source": [
    "print(\"I will now count my chickens:\")\n",
    "\n",
    "print(\"Hens\", 25 + 30 / 6)\n",
    "print(\"Roosters\", 100 - 25 * 3 % 4)\n",
    "\n",
    "print('Now I will count the eggs:')\n",
    "\n",
    "print(3+2+1-5+4%2-1/4+6)\n",
    "\n",
    "print(\"Is it true that 3 + 2 < 5 - 7?\")\n",
    "\n",
    "print(3 + 2 < 5 - 7)\n",
    "\n",
    "print('What is 3 + 2?', 3+2)\n",
    "print(\"What is 5 - 7?\", 5-7)\n",
    "\n",
    "print(\"Oh, tha's why it's False.\")\n",
    "\n",
    "print(\"How about some more.\")\n",
    "\n",
    "print(\"Is it greater?\", 5>2)\n",
    "print(\"Is it greater or equal?\", 5 >= -2)\n",
    "print(\"Is it less or equal?\", 5 <= -2)"
   ]
  },
  {
   "cell_type": "markdown",
   "metadata": {},
   "source": [
    "Ex. 4: Variables and Names"
   ]
  },
  {
   "cell_type": "code",
   "execution_count": 24,
   "metadata": {},
   "outputs": [
    {
     "name": "stdout",
     "output_type": "stream",
     "text": [
      "There are 100 cars available.\n",
      "There are only 30  drivers available.\n",
      "There will be 70 empty cars today.\n",
      "We can transport 120.0 people today.\n",
      "We have 90 to carpool today.\n",
      "We need to put about 3.0 in each car.\n"
     ]
    }
   ],
   "source": [
    "cars = 100\n",
    "space_in_a_car = 4.0\n",
    "drivers = 30\n",
    "passengers = 90\n",
    "cars_not_driven = cars - drivers\n",
    "cars_driven = drivers\n",
    "carpool_capacity = cars_driven * space_in_a_car\n",
    "average_passengers_per_car = passengers / cars_driven\n",
    "\n",
    "print(\"There are\", cars, \"cars available.\")\n",
    "print(\"There are only\", drivers, \" drivers available.\")\n",
    "print(\"There will be\", cars_not_driven, \"empty cars today.\")\n",
    "print(\"We can transport\", carpool_capacity, \"people today.\")\n",
    "print(\"We have\", passengers, \"to carpool today.\")\n",
    "print(\"We need to put about\", average_passengers_per_car, \"in each car.\")"
   ]
  },
  {
   "cell_type": "markdown",
   "metadata": {},
   "source": [
    "Ex. 5: More Variables and Printing"
   ]
  },
  {
   "cell_type": "code",
   "execution_count": 25,
   "metadata": {},
   "outputs": [
    {
     "name": "stdout",
     "output_type": "stream",
     "text": [
      "Let's talk about Cari Holmes.\n",
      "She's 68 inches tall.\n",
      "She's 120 pounds heavy.\n",
      "Actually that's not too heavy.\n",
      "She's got Brown eyes and Brown hair.\n",
      "His teeth are usually White depending on the coffee.\n",
      "If I add 29, 68, and 120 I get 217.\n"
     ]
    }
   ],
   "source": [
    "my_name = 'Cari Holmes'\n",
    "my_age = 29\n",
    "my_height = 68 \n",
    "my_weight = 120 \n",
    "my_eyes = 'Brown'\n",
    "my_teeth = 'White'\n",
    "my_hair = 'Brown'\n",
    "\n",
    "print(f\"Let's talk about {my_name}.\")\n",
    "print(f\"She's {my_height} inches tall.\")\n",
    "print(f\"She's {my_weight} pounds heavy.\")\n",
    "print(\"Actually that's not too heavy.\")\n",
    "print(f\"She's got {my_eyes} eyes and {my_hair} hair.\")\n",
    "print(f\"His teeth are usually {my_teeth} depending on the coffee.\")\n",
    "\n",
    "# this line is tricky, try to get it exactly right\n",
    "total = my_age + my_height + my_weight\n",
    "print(f\"If I add {my_age}, {my_height}, and {my_weight} I get {total}.\")"
   ]
  },
  {
   "cell_type": "markdown",
   "metadata": {},
   "source": [
    "Ex. 6: Strings and Text"
   ]
  },
  {
   "cell_type": "code",
   "execution_count": 26,
   "metadata": {},
   "outputs": [
    {
     "name": "stdout",
     "output_type": "stream",
     "text": [
      "There are 10 types of people.\n",
      "Those who know binary and those who don't.\n",
      "I said: There are 10 types of people.\n",
      "I also said: 'Those who know binary and those who don't.'\n",
      "Isn't that joke so funny?! False\n",
      "This is the left side of...a string with a right side.\n"
     ]
    }
   ],
   "source": [
    "types_of_people = 10\n",
    "x = f\"There are {types_of_people} types of people.\"\n",
    "\n",
    "binary = \"binary\"\n",
    "do_not = \"don't\"\n",
    "y = f\"Those who know {binary} and those who {do_not}.\"\n",
    "\n",
    "print(x)\n",
    "print(y)\n",
    "\n",
    "print(f\"I said: {x}\")\n",
    "print(f\"I also said: '{y}'\")\n",
    "\n",
    "hilarious = False\n",
    "joke_evaluation = \"Isn't that joke so funny?! {}\"\n",
    "\n",
    "print(joke_evaluation.format(hilarious))\n",
    "\n",
    "w = \"This is the left side of...\"\n",
    "e = \"a string with a right side.\"\n",
    "\n",
    "print(w + e)"
   ]
  },
  {
   "cell_type": "markdown",
   "metadata": {},
   "source": [
    "Ex. 7: More Printing"
   ]
  },
  {
   "cell_type": "code",
   "execution_count": 27,
   "metadata": {},
   "outputs": [
    {
     "name": "stdout",
     "output_type": "stream",
     "text": [
      "Mary has a little lamb.\n",
      "Its fleece was white as snow.\n",
      "And everywhere that Mary went.\n",
      "..........\n",
      "CheeseBurger\n"
     ]
    }
   ],
   "source": [
    "print(\"Mary has a little lamb.\")\n",
    "print(\"Its fleece was white as {}.\".format('snow'))\n",
    "print(\"And everywhere that Mary went.\")\n",
    "print(\".\" * 10) # what'd that do?\n",
    "\n",
    "end1 = \"C\"\n",
    "end2 = \"h\"\n",
    "end3 = \"e\"\n",
    "end4 = \"e\"\n",
    "end5 = \"s\"\n",
    "end6 = \"e\"\n",
    "end7 = \"B\"\n",
    "end8 = \"u\"\n",
    "end9 = \"r\"\n",
    "end10 = \"g\"\n",
    "end11 = \"e\"\n",
    "end12 = \"r\"\n",
    "\n",
    "# watch end = ' ' at the end. try removing it to see what happens.\n",
    "print(end1 + end2 + end3 + end4 + end5 + end6, end='')\n",
    "print(end7 + end8 + end9 + end10 + end11 + end12)"
   ]
  },
  {
   "cell_type": "markdown",
   "metadata": {},
   "source": [
    "Ex 8: Printing Printing"
   ]
  },
  {
   "cell_type": "code",
   "execution_count": 28,
   "metadata": {},
   "outputs": [
    {
     "name": "stdout",
     "output_type": "stream",
     "text": [
      "1 2 3 4\n",
      "one two three four\n",
      "True False False True\n",
      "{} {} {} {} {} {} {} {} {} {} {} {} {} {} {} {}\n",
      "Try your Own text here Maybe a poem Or a song about fear\n"
     ]
    }
   ],
   "source": [
    "formatter = \"{} {} {} {}\"\n",
    "\n",
    "print(formatter.format(1, 2, 3, 4))\n",
    "print(formatter.format(\"one\", \"two\", \"three\", \"four\"))\n",
    "print(formatter.format(True, False, False, True))\n",
    "print(formatter.format(formatter, formatter, formatter, formatter))\n",
    "print(formatter.format(\n",
    "    \"Try your\",\n",
    "    \"Own text here\",\n",
    "    \"Maybe a poem\",\n",
    "    \"Or a song about fear\"\n",
    "))"
   ]
  },
  {
   "cell_type": "markdown",
   "metadata": {},
   "source": [
    "Ex. 9: Printint Printing Printing"
   ]
  },
  {
   "cell_type": "code",
   "execution_count": 29,
   "metadata": {},
   "outputs": [
    {
     "name": "stdout",
     "output_type": "stream",
     "text": [
      "Here are the days:  mon tues wed thurs fri st sun\n",
      "Here are the months:  jan\n",
      "feb\n",
      "mar\n",
      "apr\n",
      "may\n",
      "jun\n",
      "jul\n",
      "aug\n",
      "\n",
      "There's something going on here.\n",
      "With the three double-quotes.\n",
      "We'll be able to type as much as we like.\n",
      "Even 4 lines if we want, or 5, or 6.\n",
      "\n"
     ]
    }
   ],
   "source": [
    "# Here's some new strange stuff, remember type it exactly\n",
    "\n",
    "days = \"mon tues wed thurs fri st sun\"\n",
    "months = \"jan\\nfeb\\nmar\\napr\\nmay\\njun\\njul\\naug\"\n",
    "\n",
    "print(\"Here are the days: \", days)\n",
    "print(\"Here are the months: \", months)\n",
    "\n",
    "print(\"\"\"\n",
    "There's something going on here.\n",
    "With the three double-quotes.\n",
    "We'll be able to type as much as we like.\n",
    "Even 4 lines if we want, or 5, or 6.\n",
    "\"\"\")"
   ]
  },
  {
   "cell_type": "markdown",
   "metadata": {},
   "source": [
    "Ex. 10: What Was That?"
   ]
  },
  {
   "cell_type": "code",
   "execution_count": 30,
   "metadata": {},
   "outputs": [
    {
     "name": "stdout",
     "output_type": "stream",
     "text": [
      "\tI'm tabbed in.\n",
      "I'm split\n",
      "on a line.\n",
      "I'm \\ a \\ cat.\n",
      "\n",
      "I'll do a list:\n",
      "\t* Cat food\n",
      "\t* Fishies\n",
      "\t* Catnip\n",
      "\t* Grass\n",
      "\n"
     ]
    }
   ],
   "source": [
    "tabby_cat = \"\\tI'm tabbed in.\"\n",
    "persian_cat = \"I'm split\\non a line.\"\n",
    "backslash_cat = \"I'm \\\\ a \\\\ cat.\"\n",
    "\n",
    "fat_cat = \"\"\"\n",
    "I'll do a list:\n",
    "\\t* Cat food\n",
    "\\t* Fishies\n",
    "\\t* Catnip\\n\\t* Grass\n",
    "\"\"\"\n",
    "\n",
    "print(tabby_cat)\n",
    "print(persian_cat)\n",
    "print(backslash_cat)\n",
    "print(fat_cat)"
   ]
  },
  {
   "cell_type": "markdown",
   "metadata": {},
   "source": [
    "Ex. 11: Asking Questions"
   ]
  },
  {
   "cell_type": "code",
   "execution_count": 35,
   "metadata": {},
   "outputs": [
    {
     "name": "stdout",
     "output_type": "stream",
     "text": [
      "How old are you?29\n",
      "How tall are you?5'7\n",
      "How much do you weigh?123\n",
      "So you are 29 old, 5'7 tall and 123 heavy.\n"
     ]
    }
   ],
   "source": [
    "print(\"How old are you?\", end='')\n",
    "age = input()\n",
    "print(\"How tall are you?\", end='')\n",
    "height = input()\n",
    "print(\"How much do you weigh?\", end='')\n",
    "weight = input()\n",
    "\n",
    "print(f\"So you are {age} old, {height} tall and {weight} heavy.\")"
   ]
  },
  {
   "cell_type": "markdown",
   "metadata": {},
   "source": [
    "Ex. 12: Prompting People"
   ]
  },
  {
   "cell_type": "code",
   "execution_count": 36,
   "metadata": {},
   "outputs": [
    {
     "name": "stdout",
     "output_type": "stream",
     "text": [
      "How old are you? 29\n",
      "How tall are you? 5'7\n",
      "How much do you weigh? 123\n",
      "So, youre 29 old, 5'7 tall and 123 heavy.\n"
     ]
    }
   ],
   "source": [
    "age = input(\"How old are you? \")\n",
    "height = input(\"How tall are you? \")\n",
    "weight = input(\"How much do you weigh? \")\n",
    "\n",
    "print(f\"So, youre {age} old, {height} tall and {weight} heavy.\")"
   ]
  },
  {
   "cell_type": "markdown",
   "metadata": {},
   "source": [
    "Ex. 13: Paramters, Unpacking, Variables"
   ]
  },
  {
   "cell_type": "code",
   "execution_count": 14,
   "metadata": {},
   "outputs": [],
   "source": [
    "from sys import argv\n",
    "# read the WYSS section for how to run this\n",
    "script, first, second, third = argv\n",
    "\n",
    "print(\"The script is called:\", script)\n",
    "print(\"Your first variable is:\", first)\n",
    "print(\"Your second variable is:\", second)\n",
    "print(\"Your third variable is:\", third)"
   ]
  },
  {
   "cell_type": "markdown",
   "metadata": {},
   "source": [
    "Ex. 14: Prompting and Passing"
   ]
  },
  {
   "cell_type": "code",
   "execution_count": 31,
   "metadata": {},
   "outputs": [],
   "source": [
    "# from sys import argv\n",
    "\n",
    "script, user_name = argv\n",
    "prompt = '>'\n",
    "\n",
    "print(f\"Hi {user_name}, I'm the {script} script.\")\n",
    "print(\"I'd like to ask you a few questions.\")\n",
    "print(f\"Do you like me {user_name}?\")\n",
    "likes = input(prompt)\n",
    "\n",
    "print(f\"Where do you live {user_name}?\")\n",
    "lives = input(prompt)\n",
    "\n",
    "print(\"What kind of computer do you have?\")\n",
    "computer = input(prompt)\n",
    "\n",
    "print(f\"\"\"\n",
    "Alright, so you said {likes} about liking me.\n",
    "You live in {lives}. Not sure where that is.\n",
    "And you have a {computer} computer. Nice.\n",
    "\"\"\")"
   ]
  },
  {
   "cell_type": "markdown",
   "metadata": {},
   "source": [
    "Ex. 15: Reading Files"
   ]
  },
  {
   "cell_type": "code",
   "execution_count": null,
   "metadata": {},
   "outputs": [],
   "source": [
    "# importing from the system module\n",
    "from sys import argv\n",
    "\n",
    "script, filename = argv\n",
    "# use 'open' to open the filename\n",
    "txt = open(filename)\n",
    "\n",
    "print(f\"Here's your file {filename}: \")\n",
    "print(txt.read())\n",
    "\n",
    "# using input to prompt the user to open the text file again.\n",
    "print(\"Type the filename again: \")\n",
    "file_again = input(\"> \")\n",
    "\n",
    "txt_again = open(file_again)\n",
    "\n",
    "print(txt_again.read())\n",
    "# .read() allows you to read a file"
   ]
  },
  {
   "cell_type": "markdown",
   "metadata": {},
   "source": [
    "Ex. 16: Reading and Writing Files"
   ]
  },
  {
   "cell_type": "code",
   "execution_count": null,
   "metadata": {},
   "outputs": [],
   "source": [
    "from sys import argv\n",
    "\n",
    "script, filename = argv\n",
    "# formatted the sting \n",
    "print(f\"We're going to erase {filename}.\")\n",
    "print(\"If you don't want that, hit CTRL-C (^C).\")\n",
    "print(\"If you do want that, hit RETURN.\")\n",
    "# prompted for unput after printing stings out.\n",
    "input(\"?\")\n",
    "\n",
    "print(\"Opening the file...\")\n",
    "# opened a new txt file\n",
    "target = open(filename, 'w')\n",
    "\n",
    "print(\"Truncating the file. Goodbye!\")\n",
    "target.truncate()\n",
    "\n",
    "print(\"Now I'm going to ask you for three lines.\")\n",
    "# lines to put into the file\n",
    "line1 = input(\"line 1: \")\n",
    "line2 = input(\"line 2: \")\n",
    "line3 = input(\"line 3: \")\n",
    "\n",
    "print(\"I'm going to write these to a file.\")\n",
    "\n",
    "target.write(line1)\n",
    "target.write(\"\\n\")\n",
    "target.write(line2)\n",
    "target.write(\"\\n\")\n",
    "target.write(line3)\n",
    "target.write(\"\\n\")\n",
    "\n",
    "print(\"And finally, we close it.\")\n",
    "# closing the file I just made\n",
    "target.close()"
   ]
  },
  {
   "cell_type": "markdown",
   "metadata": {},
   "source": [
    "Ex. 17: More Files"
   ]
  },
  {
   "cell_type": "code",
   "execution_count": null,
   "metadata": {},
   "outputs": [],
   "source": [
    "from sys import argv\n",
    "from os.path import exists\n",
    "\n",
    "script, from_file, to_file = argv\n",
    "# copied on file to another\n",
    "print(f\"Copying from {from_file} to {to_file}\")\n",
    "\n",
    "# we could do these two on one line, how?\n",
    "in_file = open(from_file)\n",
    "indata = in_file.read()\n",
    "\n",
    "print(f\"The input file is {len(indata)} bytes long\")\n",
    "\n",
    "print(f\"Does the output file exist? {exists(to_file)}\")\n",
    "print(\"Ready, hit RETURN to continue, CTRL-C to abort.\")\n",
    "input()\n",
    "\n",
    "out_file = open(to_file, 'w')\n",
    "out_file.write(indata)\n",
    "\n",
    "print(\"Alright, all done.\")\n",
    "# closed the files with '.close()\n",
    "out_file.close()\n",
    "in_file.close()"
   ]
  },
  {
   "cell_type": "markdown",
   "metadata": {},
   "source": [
    "Ex. 18: Names, Variables, Code, Functions"
   ]
  },
  {
   "cell_type": "code",
   "execution_count": 32,
   "metadata": {},
   "outputs": [
    {
     "name": "stdout",
     "output_type": "stream",
     "text": [
      "arg1: Cari, arg2: Holmes\n",
      "arg1: cari, arg2: holmes\n",
      "arg1: First!\n",
      "I got nothin'.\n"
     ]
    }
   ],
   "source": [
    "# this one is like your scripts with argv\n",
    "def print_two(*args):\n",
    "    arg1, arg2 = args\n",
    "    print(f\"arg1: {arg1}, arg2: {arg2}\")\n",
    "          \n",
    "# ok that *args is actually pointless, we can just do this\n",
    "def print_two_again(arg1, arg2):\n",
    "    print(f\"arg1: {arg1}, arg2: {arg2}\")\n",
    "          \n",
    "# this just takes one argument\n",
    "def print_one(arg1):\n",
    "    print(f\"arg1: {arg1}\")\n",
    "          \n",
    "# this one takes no arguments\n",
    "def print_none():\n",
    "    print(\"I got nothin'.\")\n",
    "          \n",
    "          \n",
    "print_two(\"Cari\", \"Holmes\")\n",
    "print_two_again(\"cari\", \"holmes\")\n",
    "print_one(\"First!\")\n",
    "print_none()"
   ]
  },
  {
   "cell_type": "markdown",
   "metadata": {},
   "source": [
    "Ex. 19: Functions and Variables"
   ]
  },
  {
   "cell_type": "code",
   "execution_count": 33,
   "metadata": {},
   "outputs": [
    {
     "name": "stdout",
     "output_type": "stream",
     "text": [
      "We can just give the function numbers directly:\n",
      "You have 20 cheese!\n",
      "You have 30 boxes of crackers!\n",
      "Man that's enough for a party!\n",
      "Get a blanket.\n",
      "\n",
      "OR, we can use variables from our script:\n",
      "You have 10 cheese!\n",
      "You have 50 boxes of crackers!\n",
      "Man that's enough for a party!\n",
      "Get a blanket.\n",
      "\n",
      "We can even do math inside too:\n",
      "You have 30 cheese!\n",
      "You have 11 boxes of crackers!\n",
      "Man that's enough for a party!\n",
      "Get a blanket.\n",
      "\n",
      "And we can combine the two, variables and math:\n",
      "You have 110 cheese!\n",
      "You have 1050 boxes of crackers!\n",
      "Man that's enough for a party!\n",
      "Get a blanket.\n",
      "\n"
     ]
    }
   ],
   "source": [
    "def cheese_and_crackers(cheese_count, boxes_of_crackers):\n",
    "    print(f\"You have {cheese_count} cheese!\")\n",
    "    print(f\"You have {boxes_of_crackers} boxes of crackers!\")\n",
    "    print(\"Man that's enough for a party!\")\n",
    "    print('Get a blanket.\\n')\n",
    "    \n",
    "print(\"We can just give the function numbers directly:\")\n",
    "cheese_and_crackers(20, 30)\n",
    "\n",
    "print(\"OR, we can use variables from our script:\")\n",
    "amount_of_cheese = 10\n",
    "amount_of_crackers = 50\n",
    "\n",
    "cheese_and_crackers(amount_of_cheese, amount_of_crackers)\n",
    "\n",
    "print(\"We can even do math inside too:\")\n",
    "cheese_and_crackers(10 + 20, 5 + 6)\n",
    "\n",
    "print(\"And we can combine the two, variables and math:\")\n",
    "cheese_and_crackers(amount_of_cheese + 100, amount_of_crackers + 1000)"
   ]
  },
  {
   "cell_type": "markdown",
   "metadata": {},
   "source": [
    "Ex. 20: Functions and Files"
   ]
  },
  {
   "cell_type": "code",
   "execution_count": 17,
   "metadata": {},
   "outputs": [],
   "source": [
    "# from sys import argv\n",
    "\n",
    "script, input_file = argv\n",
    "\n",
    "def print_all(f):\n",
    "    print(f.read())\n",
    "    \n",
    "def rewind(f):\n",
    "    f.seek(0)\n",
    "    \n",
    "def print_a_line(line_count, f):\n",
    "    print(line_count, f.readline())\n",
    "    \n",
    "current_file = open(input_file)\n",
    "\n",
    "print(\"First let's print the whole file:\\n\")\n",
    "\n",
    "print_all(current_file)\n",
    "\n",
    "print(\"Now let's rewind, kind of like a tape.\")\n",
    "\n",
    "rewind(current_file)\n",
    "\n",
    "print(\"Let's print three lines:\")\n",
    "\n",
    "current_line = 1\n",
    "print_a_line(current_line, current_file)\n",
    "\n",
    "current_line = 1\n",
    "print_a_line(current_line, current_file)\n",
    "\n",
    "current_line = 1\n",
    "print_a_line(current_line, current_file)\n",
    "\n",
    "# vs code or command line"
   ]
  },
  {
   "cell_type": "markdown",
   "metadata": {},
   "source": [
    "Ex 21. Functions Can Return Something"
   ]
  },
  {
   "cell_type": "code",
   "execution_count": 34,
   "metadata": {},
   "outputs": [
    {
     "name": "stdout",
     "output_type": "stream",
     "text": [
      "Let's do some math with just functions!\n",
      "ADDING 30 + 5\n",
      "SUBRACTING 78 - 4\n",
      "MULTIPLING 90 * 2\n",
      "DIVIDING 100 / 2\n",
      "Age: 35, Height: 74, Weight: 180, IQ: 50.0\n",
      "Here is a puzzle.\n",
      "DIVIDING 50.0 / 2\n",
      "MULTIPLING 180 * 25.0\n",
      "SUBRACTING 74 - 4500.0\n",
      "ADDING 35 + -4426.0\n",
      "That becomes:  -4391.0 Can you do that by hand?\n"
     ]
    }
   ],
   "source": [
    "def add(a, b):\n",
    "    print(f'ADDING {a} + {b}')\n",
    "    return a + b\n",
    "\n",
    "def subtract(a, b):\n",
    "    print(f\"SUBRACTING {a} - {b}\")\n",
    "    return a - b\n",
    "\n",
    "def multiply( a, b):\n",
    "    print(f\"MULTIPLING {a} * {b}\")\n",
    "    return a * b\n",
    "\n",
    "def divide(a, b):\n",
    "    print(f\"DIVIDING {a} / {b}\")\n",
    "    return a / b\n",
    "\n",
    "print(\"Let's do some math with just functions!\")\n",
    "\n",
    "age = add(30, 5)\n",
    "height = subtract(78, 4)\n",
    "weight = multiply(90, 2)\n",
    "iq = divide(100, 2)\n",
    "\n",
    "print(f\"Age: {age}, Height: {height}, Weight: {weight}, IQ: {iq}\")\n",
    "\n",
    "# A puzzle for the extra credit, type it in anyway.\n",
    "print(\"Here is a puzzle.\")\n",
    "\n",
    "what = add(age, subtract(height, multiply(weight, divide(iq, 2))))\n",
    "\n",
    "print(\"That becomes: \", what, \"Can you do that by hand?\")"
   ]
  },
  {
   "cell_type": "markdown",
   "metadata": {},
   "source": [
    "Exercise 22: **What do you know so far?**"
   ]
  },
  {
   "cell_type": "code",
   "execution_count": null,
   "metadata": {},
   "outputs": [],
   "source": [
    "# Go back through all exercises and review everything up until this point. \n",
    "# Write down every word and symbol covered to make a study drill list."
   ]
  },
  {
   "cell_type": "markdown",
   "metadata": {},
   "source": [
    "print(): prints out specified string or object to screen\n",
    "\n",
    "#: pound sign comments things out\n",
    "\n",
    "+: adds\n",
    "\n",
    "-: subtracts\n",
    "\n",
    "/: division\n",
    "\n",
    "//: floor division (rounded down)\n",
    "\n",
    "*: multiplication \n",
    "\n",
    "** : exponentiation (raised to the power)\n",
    "\n",
    "%: modulus (integer remainder)\n",
    "\n",
    "<: less than\n",
    "\n",
    "'>: greater than \n",
    "\n",
    "'<=: less or equal to\n",
    "\n",
    "'>=: greater or equal to\n",
    "\n",
    "var_name = example: assinging a name to a variable\n",
    "\n",
    ".format(): format string\n",
    "    - example: print(\"Hello {}.format(Bob)\")\n",
    "\n",
    "f'string{}: string interpolation\n",
    "    - example: age = 29\n",
    "    - print(f\"I am {age} years old.\")\n",
    "\n",
    "joke_eval = \"Isn't that joke so funny? {}\"\n",
    "print(joke_eval.format(Hilarious))\n",
    "\n",
    "print('.' * 10) multiplies . in string\n",
    "\n",
    "\\t: tabs in \n",
    "\n",
    "\\: in the middle of a string, splits it in half\n",
    "\n",
    "\\\\: adds in a backslash wherever this is added\n",
    "\n",
    "\"\"\"  \"\"\": triple quotes allow to add in multiple lines inside of those quotes and still be a string\n",
    "\n",
    "input(): allows user to add individual input to answer a question\n",
    "    - example: print('how old are you?', end=' ')\n",
    "    - age = input()\n",
    "        - end= ' ' allows user to start on a new line\n",
    "        \n",
    "input('add in string'): Can ask a question in the input to promt user\n",
    "\n",
    "open(filename): will open filename \n",
    "\n",
    ".read(): will read contents of a file, assign it to a variable will make it easier to use\n",
    "\n",
    ".readline(): reads just one line of text \n",
    "\n",
    ".truncate(): empties the file\n",
    "\n",
    ".write('string'): writes 'string' to the file\n",
    "\n",
    ".seek(0): moves the location of the file\n",
    "\n",
    ".close(): closes the file\n",
    "\n",
    "def: defines a functions, always takes : after it\n",
    "\n",
    "return: returns the execution of a function\n",
    "\n",
    "**"
   ]
  },
  {
   "cell_type": "markdown",
   "metadata": {},
   "source": [
    "Exercise 23: Strings, Bytes, and Character Encodings\n",
    "\n",
    "Encoding: encode a string using provided encoding, returns the bytes object\n",
    "Errors: response when encoding fails, 6 different response options\n",
    "Decode: converts byte objects to strings"
   ]
  },
  {
   "cell_type": "code",
   "execution_count": null,
   "metadata": {},
   "outputs": [],
   "source": [
    "import sys\n",
    "script, input_encoding, error = sys.argv\n",
    "\n",
    "def main(language_file, encoding, errors):\n",
    "    line = language_file.readline()\n",
    "    if line:\n",
    "        print_line(line, encoding, errors)\n",
    "        return main(language_file, encoding, errors)\n",
    "\n",
    "def print_line(line, encoding, errors):\n",
    "    next_lang = line.strip()\n",
    "    raw_bytes = next_lang.encode(encoding, errors=errors)\n",
    "    cooked_string = raw_bytes.decode(encoding, errors=errors)\n",
    "    print(raw_bytes, \"<===>\", cooked_string)\n",
    "\n",
    "languages = open('languages.txt', encoding='utf-8')\n",
    "\n",
    "main(languages, input_encoding, error)"
   ]
  },
  {
   "cell_type": "markdown",
   "metadata": {},
   "source": [
    "Exercise 24: More Practice"
   ]
  },
  {
   "cell_type": "code",
   "execution_count": 38,
   "metadata": {},
   "outputs": [
    {
     "name": "stdout",
     "output_type": "stream",
     "text": [
      "Let's practice everything.\n",
      "You'd need to know 'bout escapes with \\ that do:\n",
      "\n",
      " newlines and \t tabs.\n",
      "---------------\n",
      "\n",
      "\t The lovely world\n",
      "with logic so firmly planted\n",
      "cannot discern \n",
      " the needs of love\n",
      "nor comprehend passion from intuition\n",
      "and requires an explanation\n",
      "\n",
      "\t\twhere there is none.\n",
      "\n",
      "---------------\n",
      "This should be five: 5\n",
      "With a starting point of: 10000\n",
      "We'd have 5000000 beans, 5000.0 jars, and 50.0 crates.\n",
      "We can also do that this way:\n",
      "We'd have 500000.0 beans, 500.0 jars, 5.0 crates.\n"
     ]
    }
   ],
   "source": [
    "print(\"Let's practice everything.\")\n",
    "print('You\\'d need to know \\'bout escapes with \\\\ that do:')\n",
    "print('\\n newlines and \\t tabs.')\n",
    "\n",
    "poem= '''\n",
    "\\t The lovely world\n",
    "with logic so firmly planted\n",
    "cannot discern \\n the needs of love\n",
    "nor comprehend passion from intuition\n",
    "and requires an explanation\n",
    "\\n\\t\\twhere there is none.\n",
    "'''\n",
    "\n",
    "print(\"---------------\")\n",
    "print(poem)\n",
    "print(\"---------------\")\n",
    "\n",
    "five = 10 - 2 + 3 -6\n",
    "print(f\"This should be five: {five}\")\n",
    "\n",
    "def secret_formula(started):\n",
    "    jelly_beans = started * 500\n",
    "    jars = jelly_beans / 1000\n",
    "    crates = jars / 100\n",
    "    return jelly_beans, jars, crates\n",
    "\n",
    "start_point = 10000\n",
    "beans, jars, crates = secret_formula(start_point)\n",
    "\n",
    "# remember that this is another way to format a string\n",
    "print(\"With a starting point of: {}\".format(start_point))\n",
    "# it's just like with an f\"\" string\n",
    "print(f\"We'd have {beans} beans, {jars} jars, and {crates} crates.\")\n",
    "\n",
    "start_point = start_point / 10\n",
    "\n",
    "print(\"We can also do that this way:\")\n",
    "formula = secret_formula(start_point)\n",
    "# this is an easy way to apply a list to a format string\n",
    "print(\"We'd have {} beans, {} jars, {} crates.\".format(*formula))\n"
   ]
  },
  {
   "cell_type": "markdown",
   "metadata": {},
   "source": [
    "Exercise 25: Even More Practice"
   ]
  },
  {
   "cell_type": "code",
   "execution_count": 21,
   "metadata": {},
   "outputs": [],
   "source": [
    "sentence = \"Who doesn't like sushi because I sure do.\""
   ]
  },
  {
   "cell_type": "code",
   "execution_count": 22,
   "metadata": {},
   "outputs": [],
   "source": [
    "def break_words(stuff):\n",
    "    '''This function will break up words for us. \n",
    "    .split() breaks up a string into a list'''\n",
    "    words = stuff.split(' ')\n",
    "    return words"
   ]
  },
  {
   "cell_type": "code",
   "execution_count": 23,
   "metadata": {},
   "outputs": [
    {
     "data": {
      "text/plain": [
       "['Who', \"doesn't\", 'like', 'sushi', 'because', 'I', 'sure', 'do.']"
      ]
     },
     "execution_count": 23,
     "metadata": {},
     "output_type": "execute_result"
    }
   ],
   "source": [
    "words = break_words(sentence)\n",
    "words"
   ]
  },
  {
   "cell_type": "code",
   "execution_count": 24,
   "metadata": {},
   "outputs": [],
   "source": [
    "def sort_words(words):\n",
    "    '''Sorts the words.\n",
    "    .sort() sorts elements in a certain order'''\n",
    "    return sorted(words)"
   ]
  },
  {
   "cell_type": "code",
   "execution_count": 25,
   "metadata": {},
   "outputs": [
    {
     "data": {
      "text/plain": [
       "['I', 'Who', 'because', 'do.', \"doesn't\", 'like', 'sure', 'sushi']"
      ]
     },
     "execution_count": 25,
     "metadata": {},
     "output_type": "execute_result"
    }
   ],
   "source": [
    "sorted_words = sort_words(words)\n",
    "sorted_words"
   ]
  },
  {
   "cell_type": "code",
   "execution_count": 26,
   "metadata": {},
   "outputs": [],
   "source": [
    "def print_first_word(words):\n",
    "    '''Prints the first word after popping it off.\n",
    "    .pop() removes the element at given index specified, defaults to last'''\n",
    "    word = words.pop(0)\n",
    "    print(word)"
   ]
  },
  {
   "cell_type": "code",
   "execution_count": 27,
   "metadata": {},
   "outputs": [
    {
     "name": "stdout",
     "output_type": "stream",
     "text": [
      "Who\n"
     ]
    }
   ],
   "source": [
    "print_first_word(words)"
   ]
  },
  {
   "cell_type": "code",
   "execution_count": 40,
   "metadata": {},
   "outputs": [],
   "source": [
    "def print_last_word(words):\n",
    "    '''Prints the last word after popping it off.'''\n",
    "    word = words.pop(-1)\n",
    "    return word"
   ]
  },
  {
   "cell_type": "code",
   "execution_count": 41,
   "metadata": {},
   "outputs": [
    {
     "data": {
      "text/plain": [
       "'sure'"
      ]
     },
     "execution_count": 41,
     "metadata": {},
     "output_type": "execute_result"
    }
   ],
   "source": [
    "print_last_word(words)"
   ]
  },
  {
   "cell_type": "code",
   "execution_count": 30,
   "metadata": {},
   "outputs": [],
   "source": [
    "def sort_sentence(sentence):\n",
    "    '''Takes in a full sentence and returns the sorted words.\n",
    "    Calling a function in a function'''\n",
    "    words = break_words(sentence)\n",
    "    return sort_words(words)"
   ]
  },
  {
   "cell_type": "code",
   "execution_count": 42,
   "metadata": {},
   "outputs": [
    {
     "data": {
      "text/plain": [
       "['I', 'Who', 'because', 'do.', \"doesn't\", 'like', 'sure', 'sushi']"
      ]
     },
     "execution_count": 42,
     "metadata": {},
     "output_type": "execute_result"
    }
   ],
   "source": [
    "sort_sentence(sentence)"
   ]
  },
  {
   "cell_type": "code",
   "execution_count": 43,
   "metadata": {},
   "outputs": [],
   "source": [
    "def print_first_and_last(sentence):\n",
    "    '''Prints the first and last words of the sentence.'''\n",
    "    words = break_words(sentence)\n",
    "    print_first_word(words)\n",
    "    print_last_word(words)"
   ]
  },
  {
   "cell_type": "code",
   "execution_count": 44,
   "metadata": {},
   "outputs": [
    {
     "name": "stdout",
     "output_type": "stream",
     "text": [
      "Who\n"
     ]
    }
   ],
   "source": [
    "print_first_and_last(sentence)"
   ]
  },
  {
   "cell_type": "code",
   "execution_count": 47,
   "metadata": {},
   "outputs": [],
   "source": [
    "def print_first_and_last_sorted(sentence):\n",
    "    '''Sorts the words then prints the first and last one.'''\n",
    "    words = sort_sentence(sentence)\n",
    "    print_first_word(words)\n",
    "    print_last_word(words)"
   ]
  },
  {
   "cell_type": "code",
   "execution_count": 48,
   "metadata": {},
   "outputs": [
    {
     "name": "stdout",
     "output_type": "stream",
     "text": [
      "I\n"
     ]
    }
   ],
   "source": [
    "print_first_and_last_sorted(sentence)"
   ]
  },
  {
   "cell_type": "markdown",
   "metadata": {},
   "source": [
    "Exercise 26: Congratulations, take a test!\n",
    "- Fix the mistakes in the code."
   ]
  },
  {
   "cell_type": "code",
   "execution_count": 61,
   "metadata": {},
   "outputs": [
    {
     "ename": "SyntaxError",
     "evalue": "invalid syntax (<ipython-input-61-3382d20cb5ac>, line 5)",
     "output_type": "error",
     "traceback": [
      "\u001b[0;36m  File \u001b[0;32m\"<ipython-input-61-3382d20cb5ac>\"\u001b[0;36m, line \u001b[0;32m5\u001b[0m\n\u001b[0;31m    weight = input()\u001b[0m\n\u001b[0m         ^\u001b[0m\n\u001b[0;31mSyntaxError\u001b[0m\u001b[0;31m:\u001b[0m invalid syntax\n"
     ]
    }
   ],
   "source": [
    "print(\"How old are you?\", end=' ')\n",
    "age = input()\n",
    "print(\"How tall are you?\", end=' ')\n",
    "print(\"How much do you weigh?\", end=' '\n",
    "weight = input()\n",
    "\n",
    "print(f\"So, you're {age} old, {height} tall and {weight} heavy.\")\n",
    "\n",
    "     \n",
    "      \n",
    "script, filename = argv\n",
    "\n",
    "txt = open(filenme)\n",
    "\n",
    "print(\"Here's your file {filename}:\")\n",
    "print(tx.read())\n",
    "\n",
    "print(\"Type the filename again:\")\n",
    "file_again = input(\"> \")\n",
    "\n",
    "txt_again = open(file_again)\n",
    "\n",
    "print(txt_again_read())\n",
    "\n",
    "      \n",
    "\n",
    "print('Let's practice everything.')\n",
    "print('You\\'d need to know \\'bout escapes \n",
    "      with \\\\ that do \\n newlines and \\t tabs.')\n",
    "\n",
    "poem = \"\"\"\n",
    "\\tThe lovely world\n",
    "with logic so firmly planted\n",
    "cannot discern \\n the needs of love\n",
    "nor comprehend passion from intuition\n",
    "and requires an explanation\n",
    "\\n\\t\\twhere there is none.\n",
    "\"\"\"\n",
    "\n",
    "print(\"--------------)\n",
    "print(poem)\n",
    "print(--------------\")\n",
    "\n",
    "\n",
    "      \n",
    "five = 10 - 2 + 3 - \n",
    "print(f\"This should be five: {five}\"\n",
    "\n",
    "def secret_formula(started)\n",
    "    jelly_beans = started * 500\n",
    "    jars = jelly_beans / 1000\n",
    "    crates = jars  100\n",
    "    return jelly_beans, jars, crates\n",
    "\n",
    "\n",
    "start_point = 10000\n",
    "beans, jars = secret_formula(start_point)\n",
    "\n",
    "# remember that this is another way to format a string\n",
    "print(\"With a starting point of: {}\".format(start_point))\n",
    "# it's just like with an f\"\" string\n",
    "print(f\"We'd have {beans} beans, {jars} jars, and {crates} crates.\")\n",
    "\n",
    "start_point = start_point / 10\n",
    "\n",
    "print(\"We can also do that this way:\")\n",
    "formula = secret_formula(startpoint)\n",
    "# this is an easy way to apply a list to a format string\n",
    "print(\"We'd have {} beans, {} jars, and {} crates.\".format(*formula))\n",
    "\n",
    "\n",
    "\n",
    "people = 20\n",
    "cates = 30\n",
    "dogs = 15\n",
    "\n",
    "\n",
    "if people < cats:\n",
    "    print \"Too many cats! The world is doomed!\"\n",
    "\n",
    "if people < cats:\n",
    "    print(\"Not many cats! The world is saved!\")\n",
    "\n",
    "if people < dogs:\n",
    "    print(\"The world is drooled on!\")\n",
    "\n",
    "if people > dogs\n",
    "    print(\"The world is dry!\")\n",
    "\n",
    "\n",
    "dogs += 5\n",
    "\n",
    "if people >= dogs:\n",
    "    print(\"People are greater than or equal to dogs.\")\n",
    "\n",
    "if people <= dogs\n",
    "    print(\"People are less than or equal to dogs.)\n",
    "\n",
    "\n",
    "if people = dogs:\n",
    "    print(\"People are dogs.\")"
   ]
  },
  {
   "cell_type": "code",
   "execution_count": 49,
   "metadata": {},
   "outputs": [
    {
     "name": "stdout",
     "output_type": "stream",
     "text": [
      "How old are you? 29\n",
      "How tall are you? 5'7\n",
      "How much do you weigh? 123\n",
      "So, you're 29 old, 5'7 tall and 123 heavy.\n"
     ]
    }
   ],
   "source": [
    "print(\"How old are you?\", end=' ')\n",
    "age = input()\n",
    "print(\"How tall are you?\", end=' ')\n",
    "height = input()\n",
    "print(\"How much do you weigh?\", end=' ')\n",
    "weight = input()\n",
    "\n",
    "print(f\"So, you're {age} old, {height} tall and {weight} heavy.\")\n",
    "\n",
    "# Fill in missing parentheses, add in height variable"
   ]
  },
  {
   "cell_type": "code",
   "execution_count": null,
   "metadata": {},
   "outputs": [],
   "source": [
    "import sys\n",
    "script, filename = argv\n",
    "\n",
    "txt = open(filenme)\n",
    "\n",
    "print(\"Here's your file {filename}:\")\n",
    "print(txt.read())\n",
    "\n",
    "print(\"Type the filename again:\")\n",
    "file_again = input(\"> \")\n",
    "\n",
    "txt_again = open(file_again, r)\n",
    "\n",
    "print(txt_again.read())"
   ]
  },
  {
   "cell_type": "code",
   "execution_count": 50,
   "metadata": {},
   "outputs": [
    {
     "name": "stdout",
     "output_type": "stream",
     "text": [
      "Let's practice everything.\n",
      "You'd need to know 'bout escapes \n",
      "      with \\ that do \n",
      " newlines and \t tabs.\n",
      "--------------\n",
      "\n",
      "\tThe lovely world\n",
      "with logic so firmly planted\n",
      "cannot discern \n",
      " the needs of love\n",
      "nor comprehend passion from intuition\n",
      "and requires an explanation\n",
      "\n",
      "\t\twhere there is none.\n",
      "\n",
      "--------------\n"
     ]
    }
   ],
   "source": [
    "print(\"Let's practice everything.\")\n",
    "print('''You\\'d need to know \\'bout escapes \n",
    "      with \\\\ that do \\n newlines and \\t tabs.''')\n",
    "\n",
    "poem = \"\"\"\n",
    "\\tThe lovely world\n",
    "with logic so firmly planted\n",
    "cannot discern \\n the needs of love\n",
    "nor comprehend passion from intuition\n",
    "and requires an explanation\n",
    "\\n\\t\\twhere there is none.\n",
    "\"\"\"\n",
    "\n",
    "print(\"--------------\")\n",
    "print(poem)\n",
    "print(\"--------------\")\n",
    "\n",
    "# Fix missing quotes throughout"
   ]
  },
  {
   "cell_type": "code",
   "execution_count": 56,
   "metadata": {},
   "outputs": [
    {
     "name": "stdout",
     "output_type": "stream",
     "text": [
      "This should be five: 5\n",
      "With a starting point of: 10000\n",
      "We'd have 5000000 beans, 5000.0 jars, and 50.0 crates.\n",
      "We can also do that this way:\n",
      "We'd have 500000.0 beans, 500.0 jars, and 5.0 crates.\n"
     ]
    }
   ],
   "source": [
    "five = 10 - 2 + 3 - 6\n",
    "print(f\"This should be five: {five}\")\n",
    "\n",
    "def secret_formula(started):\n",
    "    jelly_beans = started * 500\n",
    "    jars = jelly_beans / 1000\n",
    "    crates = jars / 100\n",
    "    return jelly_beans, jars, crates\n",
    "\n",
    "start_point = 10000\n",
    "beans, jars, crates = secret_formula(start_point)\n",
    "\n",
    "# remember that this is another way to format a string\n",
    "print(\"With a starting point of: {}\".format(start_point))\n",
    "# it's just like with an f\"\" string\n",
    "print(f\"We'd have {beans} beans, {jars} jars, and {crates} crates.\")\n",
    "\n",
    "startpoint = start_point / 10\n",
    "\n",
    "print(\"We can also do that this way:\")\n",
    "formula = secret_formula(startpoint)\n",
    "# this is an easy way to apply a list to a format string\n",
    "print(\"We'd have {} beans, {} jars, and {} crates.\".format(*formula))\n",
    "\n",
    "# Add in missing punctuation and match up words in functions"
   ]
  },
  {
   "cell_type": "code",
   "execution_count": 60,
   "metadata": {},
   "outputs": [
    {
     "name": "stdout",
     "output_type": "stream",
     "text": [
      "Too many cats! The world is doomed!\n",
      "The world is dry!\n",
      "People are greater than or equal to dogs.\n",
      "People are less than or equal to dogs.\n",
      "People are dogs.\n"
     ]
    }
   ],
   "source": [
    "people = 20\n",
    "cats = 30\n",
    "dogs = 15\n",
    "\n",
    "\n",
    "if people < cats:\n",
    "    print(\"Too many cats! The world is doomed!\")\n",
    "\n",
    "if people > cats:\n",
    "    print(\"Not many cats! The world is saved!\")\n",
    "\n",
    "if people < dogs:\n",
    "    print(\"The world is drooled on!\")\n",
    "\n",
    "if people > dogs:\n",
    "    print(\"The world is dry!\")\n",
    "\n",
    "\n",
    "dogs += 5\n",
    "\n",
    "if people >= dogs:\n",
    "    print(\"People are greater than or equal to dogs.\")\n",
    "\n",
    "if people <= dogs:\n",
    "    print(\"People are less than or equal to dogs.\")\n",
    "\n",
    "\n",
    "if people == dogs:\n",
    "    print(\"People are dogs.\")\n",
    "    \n",
    "# Add in missing elements such as parentheses."
   ]
  },
  {
   "cell_type": "code",
   "execution_count": null,
   "metadata": {},
   "outputs": [],
   "source": []
  }
 ],
 "metadata": {
  "kernelspec": {
   "display_name": "Python 3",
   "language": "python",
   "name": "python3"
  },
  "language_info": {
   "codemirror_mode": {
    "name": "ipython",
    "version": 3
   },
   "file_extension": ".py",
   "mimetype": "text/x-python",
   "name": "python",
   "nbconvert_exporter": "python",
   "pygments_lexer": "ipython3",
   "version": "3.7.3"
  },
  "toc": {
   "base_numbering": 1,
   "nav_menu": {},
   "number_sections": true,
   "sideBar": true,
   "skip_h1_title": false,
   "title_cell": "Table of Contents",
   "title_sidebar": "Contents",
   "toc_cell": false,
   "toc_position": {},
   "toc_section_display": true,
   "toc_window_display": false
  }
 },
 "nbformat": 4,
 "nbformat_minor": 2
}
