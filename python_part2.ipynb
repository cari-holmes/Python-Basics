{
 "cells": [
  {
   "cell_type": "markdown",
   "metadata": {},
   "source": [
    "**Learn Python the Hard Way** \n",
    "\n",
    "Learning Python through building up skills using memorization and practice and then applying them to increasingly difficult problems."
   ]
  },
  {
   "cell_type": "markdown",
   "metadata": {},
   "source": [
    "Exercise 27: Memorizing Logic"
   ]
  },
  {
   "cell_type": "code",
   "execution_count": 18,
   "metadata": {},
   "outputs": [
    {
     "name": "stdout",
     "output_type": "stream",
     "text": [
      "NOT:\n",
      "True\n",
      "False\n",
      "\n",
      "\n",
      "OR:\n",
      "True\n",
      "True\n",
      "True\n",
      "False\n",
      "\n",
      "\n",
      "AND:\n",
      "False\n",
      "True\n",
      "False\n",
      "False\n",
      "\n",
      "\n",
      "NOT OR:\n",
      "False\n",
      "False\n",
      "False\n",
      "True\n",
      "\n",
      "\n",
      "NOT AND:\n",
      "True\n",
      "False\n",
      "True\n",
      "True\n",
      "\n",
      "\n",
      "!=:\n",
      "True\n",
      "False\n",
      "True\n",
      "False\n",
      "\n",
      "\n",
      "==:\n",
      "False\n",
      "True\n",
      "False\n",
      "True\n"
     ]
    }
   ],
   "source": [
    "print(\"NOT:\")\n",
    "print(not False)\n",
    "print(not True)\n",
    "print('\\n')\n",
    "print(\"OR:\")\n",
    "print(True or False)\n",
    "print(True or True)\n",
    "print(False or True)\n",
    "print(False or False)\n",
    "print('\\n')\n",
    "print(\"AND:\")\n",
    "print(True and False)\n",
    "print(True and True)\n",
    "print(False and True)\n",
    "print(False and False)\n",
    "print('\\n')\n",
    "print(\"NOT OR:\")\n",
    "print(not (True or False))\n",
    "print(not (True or True))\n",
    "print(not (False or True))\n",
    "print(not (False or False))\n",
    "print('\\n')\n",
    "print(\"NOT AND:\")\n",
    "print(not (True and False))\n",
    "print(not(True and True))\n",
    "print(not (False and True))\n",
    "print(not(False and False))\n",
    "print('\\n')\n",
    "print(\"!=:\")\n",
    "print(1 != 0)\n",
    "print(1 != 1)\n",
    "print(0 != 1)\n",
    "print(0 != 0)\n",
    "print('\\n')\n",
    "print(\"==:\")\n",
    "print(1 == 0)\n",
    "print(1 == 1)\n",
    "print(0 == 1)\n",
    "print(0 == 0)"
   ]
  },
  {
   "cell_type": "markdown",
   "metadata": {},
   "source": [
    "Exercise 28: Boolean Practice"
   ]
  },
  {
   "cell_type": "code",
   "execution_count": 22,
   "metadata": {},
   "outputs": [
    {
     "name": "stdout",
     "output_type": "stream",
     "text": [
      "True\n",
      "False\n",
      "False\n",
      "True\n",
      "True\n",
      "True\n",
      "False\n",
      "False\n",
      "True\n",
      "False\n",
      "True\n",
      "False\n",
      "False\n",
      "False\n",
      "True\n",
      "True\n",
      "False\n",
      "False\n"
     ]
    }
   ],
   "source": [
    "print(True and True)\n",
    "# true\n",
    "print(False and True)\n",
    "# false\n",
    "print(1 == 1 and 2 == 1)\n",
    "# false\n",
    "print('test' == 'test')\n",
    "# true\n",
    "print(1 == 1 or 2 != 1)\n",
    "# true\n",
    "print(True and 1 == 1)\n",
    "# true\n",
    "print('test' == 'testing')\n",
    "# false\n",
    "print(1 != 0 and 2 == 1) \n",
    "# false\n",
    "print('test' != 'testing')\n",
    "# true\n",
    "print('test' == 1)\n",
    "# false\n",
    "print(not (True and False))\n",
    "# true\n",
    "print(not (1 == 1 and 0 != 1))\n",
    "# false\n",
    "print(not (10 == 1 or 1000 == 1000))\n",
    "# false\n",
    "print(not (1 != 10 or 3 == 4))\n",
    "# false\n",
    "print(not ('testing' == 'testing' and 'zed' == 'cool guy'))\n",
    "# true\n",
    "print(1 == 1 and (not('testing' == 1 or 1 == 0)))\n",
    "# true\n",
    "print('chunky' == 'bacon' and (not (3 == 4 or 3 == 3)))\n",
    "# false\n",
    "print(3 == 3 and (not ('testing' == 'testing' or 'python' == 'fun')))\n",
    "# false"
   ]
  },
  {
   "cell_type": "markdown",
   "metadata": {},
   "source": [
    "Exercise 29: What If"
   ]
  },
  {
   "cell_type": "code",
   "execution_count": 28,
   "metadata": {},
   "outputs": [
    {
     "name": "stdout",
     "output_type": "stream",
     "text": [
      "Too many cats! The world is doomed!\n",
      "The world is dry!\n",
      "People are greater than or equal to dogs.\n",
      "People are less than or equal to dogs.\n",
      "People are dogs.\n",
      "It works!\n"
     ]
    }
   ],
   "source": [
    "people = 20\n",
    "cats = 30\n",
    "dogs = 15\n",
    "\n",
    "if people < cats:\n",
    "    print('Too many cats! The world is doomed!')\n",
    "    \n",
    "if people > cats:\n",
    "    print('Not many cats! The world is saved!')\n",
    "    \n",
    "if people < dogs:\n",
    "    print('The world is drooled on!')\n",
    "    \n",
    "if people > dogs:\n",
    "    print('The world is dry!')\n",
    "    \n",
    "dogs += 5\n",
    "\n",
    "if people >= dogs:\n",
    "    print('People are greater than or equal to dogs.')\n",
    "    \n",
    "if people <= dogs:\n",
    "    print('People are less than or equal to dogs.')\n",
    "    \n",
    "if people == dogs:\n",
    "    print('People are dogs.')\n",
    "\n",
    "# This is an example from exercise 27\n",
    "if 'test' != 'testing':\n",
    "    print('It works!')"
   ]
  },
  {
   "cell_type": "code",
   "execution_count": null,
   "metadata": {},
   "outputs": [],
   "source": [
    "# What do you think the 'if' does to the code under it?\n",
    "    # If the if-statement is true, it will perform the operation underneath it\n",
    "    # if the if-statment is true, it runs the script, otherwise it skips it \n",
    "\n",
    "# Why does the code under the 'if' need to be indented four spaces?\n",
    "    # The code needs to be indented telling Python that the indented code is a part of the original block of code\n",
    "\n",
    "# What happens if it isn't indented?\n",
    "    # If the block isn't indented, it will not run or show and error message\n",
    "\n",
    "# Can you put other Boolean expressions from EX. 27 in the if-statement? Try it.\n",
    "    # last example, it runs and prints out the messge that is True\n",
    "\n",
    "# What happens if you change the initial values for people, cats, and dogs?\n",
    "    # The outputs change"
   ]
  },
  {
   "cell_type": "markdown",
   "metadata": {},
   "source": [
    "Exercise 30: Else and If"
   ]
  },
  {
   "cell_type": "code",
   "execution_count": 31,
   "metadata": {},
   "outputs": [
    {
     "name": "stdout",
     "output_type": "stream",
     "text": [
      "We should take the cars.\n",
      "Maybe we could take the trucks.\n",
      "Alright, let's just take the trucks.\n"
     ]
    }
   ],
   "source": [
    "people = 30\n",
    "cars = 40\n",
    "trucks = 15\n",
    "\n",
    "if cars > people:\n",
    "    print('We should take the cars.')    \n",
    "elif cars < people:\n",
    "    print('We should not take the cars.')\n",
    "else:\n",
    "    print('We can\\'t decide.')\n",
    "          \n",
    "if trucks > cars:\n",
    "    print('That\\'s too many trucks.')\n",
    "elif trucks < cars:\n",
    "    print('Maybe we could take the trucks.')\n",
    "else:\n",
    "    print(\"We still can't decide.\")\n",
    "          \n",
    "if people > trucks:\n",
    "    print(\"Alright, let's just take the trucks.\")\n",
    "else:\n",
    "    print(\"Fine, let's stay home then.\")\n",
    "    \n",
    "# the elif and else statements allow you to add in more boolean statements and give more options for repsonses"
   ]
  },
  {
   "cell_type": "markdown",
   "metadata": {},
   "source": [
    "Exercise 31: Making Decisions"
   ]
  },
  {
   "cell_type": "code",
   "execution_count": 37,
   "metadata": {},
   "outputs": [
    {
     "name": "stdout",
     "output_type": "stream",
     "text": [
      "You enter a dark room with two doors.\n",
      "Do you go through door #1 or door #2?\n",
      "> 2\n",
      "You stare into the endless abyss at Cthulhu's retina.\n",
      "1. Blueberries.\n",
      "2. Yellow jacket clothespins.\n",
      "3. Understanding revolvers yelling melodies.\n",
      "> 1\n",
      "Your body surives powered by a mind of jello.\n",
      "Good job!\n"
     ]
    }
   ],
   "source": [
    "print(\"\"\"You enter a dark room with two doors.\n",
    "Do you go through door #1 or door #2?\"\"\")\n",
    "\n",
    "door = input(\"> \")\n",
    "\n",
    "if door == '1':\n",
    "    print(\"There's a giant bear here eating cheesecake.\")\n",
    "    print(\"What do you do?\")\n",
    "    print(\"1. Take the cake.\")\n",
    "    print(\"2. Scream at the bear.\")\n",
    "    \n",
    "    bear = input(\"> \")\n",
    "    \n",
    "    if bear == '1':\n",
    "        print(\"The bear eats your face off. Good job!\")\n",
    "    elif bear == '2':\n",
    "        print(\"The bear eats your legs off. Good job!\")\n",
    "    else:\n",
    "        print(f\"Well, doing {bear} is probably better.\")\n",
    "        print(\"Bear runs away.\")\n",
    "        \n",
    "elif door == '2':\n",
    "    print(\"You stare into the endless abyss at Cthulhu's retina.\")\n",
    "    print(\"1. Blueberries.\")\n",
    "    print(\"2. Yellow jacket clothespins.\")\n",
    "    print(\"3. Understanding revolvers yelling melodies.\")\n",
    "    \n",
    "    insanity = input(\"> \")\n",
    "    \n",
    "    if insanity == '1' or insanity == '2':\n",
    "        print(\"Your body surives powered by a mind of jello.\")\n",
    "        print(\"Good job!\")\n",
    "    else: \n",
    "        print(\"The insanity rots you eyes into a pool of muck.\")\n",
    "        print(\"Good job!\")\n",
    "        \n",
    "else:\n",
    "    print(\"You stumble around and fall on a knife and die. Good job!\")"
   ]
  },
  {
   "cell_type": "code",
   "execution_count": 44,
   "metadata": {},
   "outputs": [
    {
     "name": "stdout",
     "output_type": "stream",
     "text": [
      "I am hungry. What should we eat for lunch? Sushi or italian or pho?\n",
      "> sushi\n",
      "Sushi is always a great option!\n",
      "We should find all you can eat sushi.\n",
      "Do you want some sake as well?\n",
      "> yes\n",
      "Wahoo! Sake for the table!\n"
     ]
    }
   ],
   "source": [
    "print(\"I am hungry. What should we eat for lunch? Sushi or italian or pho?\")\n",
    "\n",
    "option = input(\"> \")\n",
    "\n",
    "if option == 'sushi':\n",
    "    print(\"Sushi is always a great option!\")\n",
    "    print(\"We should find all you can eat sushi.\")\n",
    "    print(\"Do you want some sake as well?\")\n",
    "    \n",
    "    answer = input(\"> \")\n",
    "    \n",
    "    if answer == 'yes':\n",
    "        print(\"Wahoo! Sake for the table!\")\n",
    "    elif answer == 'no':\n",
    "        print(\"Boo, I guess water it is then.\")\n",
    "    else:\n",
    "        print(\"I am going to order some sake bombs then!\")\n",
    "        \n",
    "elif option == 'italian':\n",
    "    print(\"Perfecto! Pesto is my favorite!\")\n",
    "    print(\"Shall we order some wine with our meal?\")\n",
    "    \n",
    "    wine = input(\"> \")\n",
    "    \n",
    "    if wine == 'yes':\n",
    "        print(\"Lovely, I prefer red wine.\")\n",
    "    else:\n",
    "        print(\"Alright, perhaps italian soda then!\")\n",
    "        \n",
    "elif option == 'pho':\n",
    "    print(\"Cool! I love me some pho.\")\n",
    "    print(\"What is your favorite kind?\")\n",
    "    \n",
    "    kind = input(\"> \")\n",
    "    \n",
    "    print(\"You can't go wrong with any pho and some hot sauce!\")\n",
    "    \n",
    "else:\n",
    "    print(\"Fine, eat by yourself.\")"
   ]
  },
  {
   "cell_type": "markdown",
   "metadata": {},
   "source": [
    "Exercise 32: Loops and Lists"
   ]
  },
  {
   "cell_type": "code",
   "execution_count": 48,
   "metadata": {},
   "outputs": [
    {
     "name": "stdout",
     "output_type": "stream",
     "text": [
      "This is count 1\n",
      "This is count 2\n",
      "This is count 3\n",
      "This is count 4\n",
      "This is count 5\n",
      "A fruit type: apples\n",
      "A fruit type: oranges\n",
      "A fruit type: pears\n",
      "A fruit type: apricots\n",
      "I got 1\n",
      "I got pennies\n",
      "I got 2\n",
      "I got dimes\n",
      "I got 3\n",
      "I got quarters\n",
      "Adding 0 to the list.\n",
      "Adding 1 to the list.\n",
      "Adding 2 to the list.\n",
      "Adding 3 to the list.\n",
      "Adding 4 to the list.\n",
      "Adding 5 to the list.\n",
      "Element was 0\n",
      "Element was 1\n",
      "Element was 2\n",
      "Element was 3\n",
      "Element was 4\n",
      "Element was 5\n"
     ]
    }
   ],
   "source": [
    "the_count = [1, 2, 3, 4, 5]\n",
    "fruits = ['apples', 'oranges', 'pears', 'apricots']\n",
    "change = [1, 'pennies', 2, 'dimes', 3, 'quarters']\n",
    "\n",
    "# this kind of for-loop goes through a list\n",
    "for number in the_count:\n",
    "    print(f\"This is count {number}\")\n",
    "    \n",
    "# same as above\n",
    "for fruit in fruits:\n",
    "    print(f\"A fruit type: {fruit}\")\n",
    "    \n",
    "# also we can go through mixed lists too\n",
    "# notice we have to use {} since we don't know what's in it\n",
    "for i in change:\n",
    "    print(f\"I got {i}\")\n",
    "    \n",
    "# we can also build lists, first start with an emtpy one\n",
    "elements = []\n",
    "\n",
    "# then use the range funtion to do 0 to 5 counts\n",
    "# range is exclusive, so need to go up to 6 to include 5\n",
    "for i in range(0, 6):\n",
    "    print(f\"Adding {i} to the list.\")\n",
    "    # append is a function that lists understand\n",
    "    elements.append(i)\n",
    "    \n",
    "# now we can print them out too\n",
    "for i in elements:\n",
    "    print(f\"Element was {i}\")"
   ]
  },
  {
   "cell_type": "markdown",
   "metadata": {},
   "source": [
    "Exercise 33: While Loops"
   ]
  },
  {
   "cell_type": "code",
   "execution_count": 50,
   "metadata": {},
   "outputs": [
    {
     "name": "stdout",
     "output_type": "stream",
     "text": [
      "At the top i is 0\n",
      "Numbers now:  [0]\n",
      "At the bottom i is 1\n",
      "At the top i is 1\n",
      "Numbers now:  [0, 1]\n",
      "At the bottom i is 2\n",
      "At the top i is 2\n",
      "Numbers now:  [0, 1, 2]\n",
      "At the bottom i is 3\n",
      "At the top i is 3\n",
      "Numbers now:  [0, 1, 2, 3]\n",
      "At the bottom i is 4\n",
      "At the top i is 4\n",
      "Numbers now:  [0, 1, 2, 3, 4]\n",
      "At the bottom i is 5\n",
      "At the top i is 5\n",
      "Numbers now:  [0, 1, 2, 3, 4, 5]\n",
      "At the bottom i is 6\n",
      "The numbers: \n",
      "0\n",
      "1\n",
      "2\n",
      "3\n",
      "4\n",
      "5\n"
     ]
    }
   ],
   "source": [
    "i = 0\n",
    "numbers = []\n",
    "\n",
    "while i < 6:\n",
    "    print(f\"At the top i is {i}\")\n",
    "    numbers.append(i)\n",
    "    \n",
    "    i = i + 1\n",
    "    print(\"Numbers now: \", numbers)\n",
    "    print(f\"At the bottom i is {i}\")\n",
    "    \n",
    "print(\"The numbers: \")\n",
    "\n",
    "for num in numbers:\n",
    "    print(num)"
   ]
  },
  {
   "cell_type": "code",
   "execution_count": 52,
   "metadata": {},
   "outputs": [],
   "source": [
    "# Convert loop into a function to call with other numbers and convert 6 with a variable\n",
    "# Replace the +1 with a variable to change increments\n",
    "\n",
    "def while_loop(n, inc):\n",
    "    i = 0\n",
    "    numbers = []\n",
    "\n",
    "    while i < n:\n",
    "        print(f\"At the top i is {i}\")\n",
    "        numbers.append(i)\n",
    "\n",
    "        i = i + inc\n",
    "        print(\"Numbers now: \", numbers)\n",
    "        print(f\"At the bottom i is {i}\")\n",
    "\n",
    "    print(\"The numbers: \")\n",
    "\n",
    "    for num in numbers:\n",
    "        print(num)"
   ]
  },
  {
   "cell_type": "code",
   "execution_count": 57,
   "metadata": {},
   "outputs": [
    {
     "name": "stdout",
     "output_type": "stream",
     "text": [
      "At the top i is 0\n",
      "Numbers now:  [0]\n",
      "At the bottom i is 2\n",
      "At the top i is 2\n",
      "Numbers now:  [0, 2]\n",
      "At the bottom i is 4\n",
      "At the top i is 4\n",
      "Numbers now:  [0, 2, 4]\n",
      "At the bottom i is 6\n",
      "At the top i is 6\n",
      "Numbers now:  [0, 2, 4, 6]\n",
      "At the bottom i is 8\n",
      "At the top i is 8\n",
      "Numbers now:  [0, 2, 4, 6, 8]\n",
      "At the bottom i is 10\n",
      "The numbers: \n",
      "0\n",
      "2\n",
      "4\n",
      "6\n",
      "8\n"
     ]
    }
   ],
   "source": [
    "while_loop(10, 2)"
   ]
  },
  {
   "cell_type": "code",
   "execution_count": 63,
   "metadata": {},
   "outputs": [
    {
     "name": "stdout",
     "output_type": "stream",
     "text": [
      "At the top i is 0\n",
      "Numbers now:  [0]\n",
      "At the bottom i is 2\n",
      "At the top i is 1\n",
      "Numbers now:  [0, 1]\n",
      "At the bottom i is 3\n",
      "At the top i is 2\n",
      "Numbers now:  [0, 1, 2]\n",
      "At the bottom i is 4\n",
      "At the top i is 3\n",
      "Numbers now:  [0, 1, 2, 3]\n",
      "At the bottom i is 5\n",
      "At the top i is 4\n",
      "Numbers now:  [0, 1, 2, 3, 4]\n",
      "At the bottom i is 6\n",
      "At the top i is 5\n",
      "Numbers now:  [0, 1, 2, 3, 4, 5]\n",
      "At the bottom i is 7\n",
      "At the top i is 6\n",
      "Numbers now:  [0, 1, 2, 3, 4, 5, 6]\n",
      "At the bottom i is 8\n",
      "At the top i is 7\n",
      "Numbers now:  [0, 1, 2, 3, 4, 5, 6, 7]\n",
      "At the bottom i is 9\n",
      "At the top i is 8\n",
      "Numbers now:  [0, 1, 2, 3, 4, 5, 6, 7, 8]\n",
      "At the bottom i is 10\n",
      "The numbers: \n",
      "0\n",
      "1\n",
      "2\n",
      "3\n",
      "4\n",
      "5\n",
      "6\n",
      "7\n",
      "8\n"
     ]
    }
   ],
   "source": [
    "# rewrite using a for-loop\n",
    "i = 0\n",
    "numbers = []\n",
    "    \n",
    "for i in range(0, 9):\n",
    "    print(f\"At the top i is {i}\")\n",
    "    numbers.append(i)\n",
    "    print(\"Numbers now: \", numbers)\n",
    "    print(f\"At the bottom i is {i}\")\n",
    "\n",
    "print(\"The numbers: \")\n",
    "for num in numbers:\n",
    "    print(num)"
   ]
  },
  {
   "cell_type": "markdown",
   "metadata": {},
   "source": [
    "Exercise 34: Accessing Elements of Lists"
   ]
  },
  {
   "cell_type": "code",
   "execution_count": 64,
   "metadata": {},
   "outputs": [
    {
     "data": {
      "text/plain": [
       "'bear'"
      ]
     },
     "execution_count": 64,
     "metadata": {},
     "output_type": "execute_result"
    }
   ],
   "source": [
    "animals = ['bear', 'tiger', 'penguin', 'zebra']\n",
    "# access the first element in the list\n",
    "animals[0]"
   ]
  },
  {
   "cell_type": "code",
   "execution_count": 69,
   "metadata": {},
   "outputs": [
    {
     "name": "stdout",
     "output_type": "stream",
     "text": [
      "bear\n",
      "peacock\n",
      "bear\n",
      "whale\n",
      "whale\n",
      "python3.6\n",
      "platypus\n",
      "kangaroo\n"
     ]
    }
   ],
   "source": [
    "animals = ['bear', 'python3.6', 'peacock', 'kangaroo', 'whale', 'platypus']\n",
    "# the animal at 1\n",
    "print(animals[0])\n",
    "\n",
    "# the 3rd animal\n",
    "print(animals[2])\n",
    "\n",
    "# the first animal\n",
    "print(animals[0])\n",
    "\n",
    "# the animal at 3\n",
    "print(animals[4])\n",
    "\n",
    "# the fifth animal\n",
    "print(animals[4])\n",
    "\n",
    "# the animal at 2\n",
    "print(animals[1])\n",
    "\n",
    "# the sixth animal\n",
    "print(animals[5])\n",
    "\n",
    "# the animal at 4\n",
    "print(animals[3])"
   ]
  },
  {
   "cell_type": "markdown",
   "metadata": {},
   "source": [
    "Exercise 35: Branches and Functions"
   ]
  },
  {
   "cell_type": "code",
   "execution_count": 75,
   "metadata": {},
   "outputs": [
    {
     "name": "stdout",
     "output_type": "stream",
     "text": [
      "You are in a dark room.\n",
      "There is a door to your right and left.\n",
      "Which one do you take?\n",
      "> left\n",
      "There's a bear in here.\n",
      "The bear has a bunch of honey.\n",
      "The fat bear is in front of another door.\n",
      "How are you going to move the bear?\n",
      "> taunt bear\n",
      "The bear has moved from the door.\n",
      "You can go through now.\n",
      "> open door\n",
      "This room is full of gold. How much do you take?\n",
      "> 1000\n",
      "You greedy bastard! Good job!\n"
     ]
    },
    {
     "ename": "SystemExit",
     "evalue": "0",
     "output_type": "error",
     "traceback": [
      "An exception has occurred, use %tb to see the full traceback.\n",
      "\u001b[0;31mSystemExit\u001b[0m\u001b[0;31m:\u001b[0m 0\n"
     ]
    }
   ],
   "source": [
    "from sys import exit\n",
    "\n",
    "def gold_room():\n",
    "    print(\"This room is full of gold. How much do you take?\")\n",
    "    \n",
    "    choice = input(\"> \")\n",
    "    if '0' in choice or '1' in choice:\n",
    "        how_much = int(choice)\n",
    "    else:\n",
    "        dead(\"Man, learn to type a number.\")\n",
    "        \n",
    "    if how_much < 50:\n",
    "        print(\"Nice, you're not greedy. You win!\")\n",
    "        exit(0)\n",
    "    else:\n",
    "        dead(\"You greedy bastard!\")\n",
    "        \n",
    "def bear_room():\n",
    "    print(\"There's a bear in here.\")\n",
    "    print(\"The bear has a bunch of honey.\")\n",
    "    print(\"The fat bear is in front of another door.\")\n",
    "    print(\"How are you going to move the bear?\")\n",
    "    bear_moved = False\n",
    "    \n",
    "    while True:\n",
    "        choice = input(\"> \")\n",
    "        \n",
    "        if choice == 'take honey':\n",
    "            dead(\"The bear looks at you then slaps your face off.\")\n",
    "        elif choice == 'taunt bear' and not bear_moved:\n",
    "            print(\"The bear has moved from the door.\")\n",
    "            print(\"You can go through now.\")\n",
    "            bear_moved = True\n",
    "        elif choice == 'taunt bear' and bear_moved:\n",
    "            dead(\"The bear gets pissed off and chews your leg off.\")\n",
    "        elif choice == 'open door' and bear_moved:\n",
    "            gold_room()\n",
    "        else: \n",
    "            print(\"I got no idea what that means.\")\n",
    "            \n",
    "def cthulhu_room():\n",
    "    print(\"Here you see the great evil Cthultu.\")\n",
    "    print(\"He, it, whatever stares at you and you go insane.\")\n",
    "    print(\"Do you flee for your life or eat your head.\")\n",
    "    \n",
    "    choice = input(\"> \")\n",
    "    \n",
    "    if 'flee' in choice:\n",
    "        start()\n",
    "    elif 'head' in choice:\n",
    "        dead(\"Well that was tasty!\")\n",
    "    else:\n",
    "        cthultu_room()\n",
    "        \n",
    "def dead(why):\n",
    "    print(why, \"Good job!\")\n",
    "    exit(0)\n",
    "    \n",
    "def start():\n",
    "    print(\"You are in a dark room.\")\n",
    "    print(\"There is a door to your right and left.\")\n",
    "    print(\"Which one do you take?\")\n",
    "    \n",
    "    choice = input(\"> \")\n",
    "    \n",
    "    if choice == 'left':\n",
    "        bear_room()\n",
    "    elif choice == 'right':\n",
    "        cthulhu_room()\n",
    "    else:\n",
    "        dead(\"You stumble around the room until you starve.\")\n",
    "        \n",
    "start()"
   ]
  },
  {
   "cell_type": "markdown",
   "metadata": {},
   "source": [
    "Exercise 36: Designing and Debugging"
   ]
  },
  {
   "cell_type": "markdown",
   "metadata": {},
   "source": [
    "Rules for if-statements while learning to code:\n",
    "1. Every if-statement must have an else\n",
    "2. If this else should never run because it doesn't make sense, then you must use a die function in the else that prints out an error message and dies, just like we did in the last exercise. This will find many errors.\n",
    "3. Never nest if-statements more than two deep and always try to do them one deep.\n",
    "4. Treat if-statements like paragraphs, where each if-elif-else grouping is like a set of sentences. Put blank lines before and after.\n",
    "5. Your boolean tests should be simple. If they are more complex, move their calculations to variables earlier in your function and use a good name for the variable.\n",
    "\n",
    "Rules for Loops while learning to code:\n",
    "1. Use a while-loop only to loop forever, and that means probably never. This only applies to Pythin; other languages are different.\n",
    "2. Use a for-loop for all other kinds of looping, especially if there is a fixed or limited number of things to loop over.\n",
    "\n",
    "Tips for Debugging:\n",
    "1. Do not use a 'debugger.' A debugger is like doing a full-body scan on a sick person. You do not get any specific useful information, and you find a whole lof of information that doesn't help andis just confusing.\n",
    "2. The best way to debug a program is to use print to print out the values of variables at points in the program to see where they go wrong.\n",
    "3. Make sure parts of your programs work as you work on them. Do not write massive files of code before you try to run them. Code a little, run a little, fix a little."
   ]
  },
  {
   "cell_type": "code",
   "execution_count": null,
   "metadata": {},
   "outputs": [],
   "source": [
    "# Write a game like that in the last exercise. Map it out first, then write it in pieces and test as you go.\n"
   ]
  },
  {
   "cell_type": "markdown",
   "metadata": {},
   "source": [
    "Exercise 37: Symbol Review"
   ]
  },
  {
   "cell_type": "code",
   "execution_count": null,
   "metadata": {},
   "outputs": [],
   "source": []
  },
  {
   "cell_type": "markdown",
   "metadata": {},
   "source": [
    "Exercise 38: Doing Things to Lists"
   ]
  },
  {
   "cell_type": "code",
   "execution_count": null,
   "metadata": {},
   "outputs": [],
   "source": []
  },
  {
   "cell_type": "markdown",
   "metadata": {},
   "source": [
    "Exercise 39: Dictionaries, Oh Lovely Dictionaries"
   ]
  },
  {
   "cell_type": "code",
   "execution_count": null,
   "metadata": {},
   "outputs": [],
   "source": []
  }
 ],
 "metadata": {
  "kernelspec": {
   "display_name": "Python 3",
   "language": "python",
   "name": "python3"
  },
  "language_info": {
   "codemirror_mode": {
    "name": "ipython",
    "version": 3
   },
   "file_extension": ".py",
   "mimetype": "text/x-python",
   "name": "python",
   "nbconvert_exporter": "python",
   "pygments_lexer": "ipython3",
   "version": "3.7.3"
  }
 },
 "nbformat": 4,
 "nbformat_minor": 2
}
